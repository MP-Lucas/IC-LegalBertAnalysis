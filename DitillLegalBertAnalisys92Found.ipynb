{
 "cells": [
  {
   "cell_type": "markdown",
   "metadata": {},
   "source": [
    "\n",
    "# 1.Instalação e carga de pacotes necessários"
   ]
  },
  {
   "cell_type": "code",
   "execution_count": 1,
   "metadata": {},
   "outputs": [
    {
     "name": "stdout",
     "output_type": "stream",
     "text": [
      "Requirement already satisfied: sentence_transformers in c:\\users\\lucas\\appdata\\local\\programs\\python\\python310\\lib\\site-packages (2.2.0)\n",
      "Requirement already satisfied: torchvision in c:\\users\\lucas\\appdata\\local\\programs\\python\\python310\\lib\\site-packages (from sentence_transformers) (0.12.0)\n",
      "Requirement already satisfied: scipy in c:\\users\\lucas\\appdata\\local\\programs\\python\\python310\\lib\\site-packages (from sentence_transformers) (1.8.0)\n",
      "Requirement already satisfied: huggingface-hub in c:\\users\\lucas\\appdata\\local\\programs\\python\\python310\\lib\\site-packages (from sentence_transformers) (0.5.1)\n",
      "Requirement already satisfied: nltk in c:\\users\\lucas\\appdata\\local\\programs\\python\\python310\\lib\\site-packages (from sentence_transformers) (3.7)\n",
      "Requirement already satisfied: tqdm in c:\\users\\lucas\\appdata\\local\\programs\\python\\python310\\lib\\site-packages (from sentence_transformers) (4.64.0)\n",
      "Requirement already satisfied: numpy in c:\\users\\lucas\\appdata\\local\\programs\\python\\python310\\lib\\site-packages (from sentence_transformers) (1.22.2)\n",
      "Requirement already satisfied: torch>=1.6.0 in c:\\users\\lucas\\appdata\\local\\programs\\python\\python310\\lib\\site-packages (from sentence_transformers) (1.11.0)\n",
      "Requirement already satisfied: scikit-learn in c:\\users\\lucas\\appdata\\local\\programs\\python\\python310\\lib\\site-packages (from sentence_transformers) (1.0.2)\n",
      "Requirement already satisfied: sentencepiece in c:\\users\\lucas\\appdata\\local\\programs\\python\\python310\\lib\\site-packages (from sentence_transformers) (0.1.96)\n",
      "Requirement already satisfied: transformers<5.0.0,>=4.6.0 in c:\\users\\lucas\\appdata\\local\\programs\\python\\python310\\lib\\site-packages (from sentence_transformers) (4.18.0)\n",
      "Requirement already satisfied: typing-extensions in c:\\users\\lucas\\appdata\\local\\programs\\python\\python310\\lib\\site-packages (from torch>=1.6.0->sentence_transformers) (4.1.1)\n",
      "Requirement already satisfied: regex!=2019.12.17 in c:\\users\\lucas\\appdata\\local\\programs\\python\\python310\\lib\\site-packages (from transformers<5.0.0,>=4.6.0->sentence_transformers) (2022.1.18)\n",
      "Requirement already satisfied: tokenizers!=0.11.3,<0.13,>=0.11.1 in c:\\users\\lucas\\appdata\\local\\programs\\python\\python310\\lib\\site-packages (from transformers<5.0.0,>=4.6.0->sentence_transformers) (0.11.6)\n",
      "Requirement already satisfied: filelock in c:\\users\\lucas\\appdata\\local\\programs\\python\\python310\\lib\\site-packages (from transformers<5.0.0,>=4.6.0->sentence_transformers) (3.6.0)\n",
      "Requirement already satisfied: packaging>=20.0 in c:\\users\\lucas\\appdata\\local\\programs\\python\\python310\\lib\\site-packages (from transformers<5.0.0,>=4.6.0->sentence_transformers) (21.3)\n",
      "Requirement already satisfied: pyyaml>=5.1 in c:\\users\\lucas\\appdata\\local\\programs\\python\\python310\\lib\\site-packages (from transformers<5.0.0,>=4.6.0->sentence_transformers) (6.0)\n",
      "Requirement already satisfied: sacremoses in c:\\users\\lucas\\appdata\\local\\programs\\python\\python310\\lib\\site-packages (from transformers<5.0.0,>=4.6.0->sentence_transformers) (0.0.49)\n",
      "Requirement already satisfied: requests in c:\\users\\lucas\\appdata\\local\\programs\\python\\python310\\lib\\site-packages (from transformers<5.0.0,>=4.6.0->sentence_transformers) (2.27.1)\n",
      "Requirement already satisfied: colorama in c:\\users\\lucas\\appdata\\local\\programs\\python\\python310\\lib\\site-packages (from tqdm->sentence_transformers) (0.4.4)\n",
      "Requirement already satisfied: joblib in c:\\users\\lucas\\appdata\\local\\programs\\python\\python310\\lib\\site-packages (from nltk->sentence_transformers) (1.1.0)\n",
      "Requirement already satisfied: click in c:\\users\\lucas\\appdata\\local\\programs\\python\\python310\\lib\\site-packages (from nltk->sentence_transformers) (8.0.3)\n",
      "Requirement already satisfied: threadpoolctl>=2.0.0 in c:\\users\\lucas\\appdata\\local\\programs\\python\\python310\\lib\\site-packages (from scikit-learn->sentence_transformers) (3.1.0)\n",
      "Requirement already satisfied: pillow!=8.3.*,>=5.3.0 in c:\\users\\lucas\\appdata\\local\\programs\\python\\python310\\lib\\site-packages (from torchvision->sentence_transformers) (9.1.0)\n",
      "Requirement already satisfied: pyparsing!=3.0.5,>=2.0.2 in c:\\users\\lucas\\appdata\\local\\programs\\python\\python310\\lib\\site-packages (from packaging>=20.0->transformers<5.0.0,>=4.6.0->sentence_transformers) (3.0.7)\n",
      "Requirement already satisfied: charset-normalizer~=2.0.0 in c:\\users\\lucas\\appdata\\local\\programs\\python\\python310\\lib\\site-packages (from requests->transformers<5.0.0,>=4.6.0->sentence_transformers) (2.0.10)\n",
      "Requirement already satisfied: urllib3<1.27,>=1.21.1 in c:\\users\\lucas\\appdata\\local\\programs\\python\\python310\\lib\\site-packages (from requests->transformers<5.0.0,>=4.6.0->sentence_transformers) (1.26.8)\n",
      "Requirement already satisfied: certifi>=2017.4.17 in c:\\users\\lucas\\appdata\\local\\programs\\python\\python310\\lib\\site-packages (from requests->transformers<5.0.0,>=4.6.0->sentence_transformers) (2021.10.8)\n",
      "Requirement already satisfied: idna<4,>=2.5 in c:\\users\\lucas\\appdata\\local\\programs\\python\\python310\\lib\\site-packages (from requests->transformers<5.0.0,>=4.6.0->sentence_transformers) (3.3)\n",
      "Requirement already satisfied: six in c:\\users\\lucas\\appdata\\roaming\\python\\python310\\site-packages (from sacremoses->transformers<5.0.0,>=4.6.0->sentence_transformers) (1.16.0)\n",
      "Note: you may need to restart the kernel to use updated packages.\n"
     ]
    },
    {
     "name": "stderr",
     "output_type": "stream",
     "text": [
      "WARNING: You are using pip version 22.0.3; however, version 22.1.1 is available.\n",
      "You should consider upgrading via the 'c:\\Users\\lucas\\AppData\\Local\\Programs\\Python\\Python310\\python.exe -m pip install --upgrade pip' command.\n"
     ]
    }
   ],
   "source": [
    "%pip install sentence_transformers\n"
   ]
  },
  {
   "cell_type": "code",
   "execution_count": 2,
   "metadata": {},
   "outputs": [
    {
     "name": "stdout",
     "output_type": "stream",
     "text": [
      "Requirement already satisfied: pandas in c:\\users\\lucas\\appdata\\local\\programs\\python\\python310\\lib\\site-packages (1.4.2)Note: you may need to restart the kernel to use updated packages.\n"
     ]
    },
    {
     "name": "stderr",
     "output_type": "stream",
     "text": [
      "WARNING: You are using pip version 22.0.3; however, version 22.1.1 is available.\n",
      "You should consider upgrading via the 'c:\\Users\\lucas\\AppData\\Local\\Programs\\Python\\Python310\\python.exe -m pip install --upgrade pip' command.\n"
     ]
    },
    {
     "name": "stdout",
     "output_type": "stream",
     "text": [
      "\n",
      "Requirement already satisfied: pytz>=2020.1 in c:\\users\\lucas\\appdata\\local\\programs\\python\\python310\\lib\\site-packages (from pandas) (2022.1)\n",
      "Requirement already satisfied: numpy>=1.21.0 in c:\\users\\lucas\\appdata\\local\\programs\\python\\python310\\lib\\site-packages (from pandas) (1.22.2)\n",
      "Requirement already satisfied: python-dateutil>=2.8.1 in c:\\users\\lucas\\appdata\\roaming\\python\\python310\\site-packages (from pandas) (2.8.2)\n",
      "Requirement already satisfied: six>=1.5 in c:\\users\\lucas\\appdata\\roaming\\python\\python310\\site-packages (from python-dateutil>=2.8.1->pandas) (1.16.0)\n"
     ]
    }
   ],
   "source": [
    "%pip install pandas\n"
   ]
  },
  {
   "cell_type": "code",
   "execution_count": 3,
   "metadata": {},
   "outputs": [
    {
     "name": "stdout",
     "output_type": "stream",
     "text": [
      "Requirement already satisfied: numpy in c:\\users\\lucas\\appdata\\local\\programs\\python\\python310\\lib\\site-packages (1.22.2)Note: you may need to restart the kernel to use updated packages.\n",
      "\n"
     ]
    },
    {
     "name": "stderr",
     "output_type": "stream",
     "text": [
      "WARNING: You are using pip version 22.0.3; however, version 22.1.1 is available.\n",
      "You should consider upgrading via the 'c:\\Users\\lucas\\AppData\\Local\\Programs\\Python\\Python310\\python.exe -m pip install --upgrade pip' command.\n"
     ]
    }
   ],
   "source": [
    "%pip install numpy\n"
   ]
  },
  {
   "cell_type": "code",
   "execution_count": 4,
   "metadata": {},
   "outputs": [
    {
     "name": "stdout",
     "output_type": "stream",
     "text": [
      "Requirement already satisfied: matplotlib in c:\\users\\lucas\\appdata\\local\\programs\\python\\python310\\lib\\site-packages (3.5.2)Note: you may need to restart the kernel to use updated packages.\n"
     ]
    },
    {
     "name": "stderr",
     "output_type": "stream",
     "text": [
      "WARNING: You are using pip version 22.0.3; however, version 22.1.1 is available.\n",
      "You should consider upgrading via the 'c:\\Users\\lucas\\AppData\\Local\\Programs\\Python\\Python310\\python.exe -m pip install --upgrade pip' command.\n"
     ]
    },
    {
     "name": "stdout",
     "output_type": "stream",
     "text": [
      "\n",
      "Requirement already satisfied: fonttools>=4.22.0 in c:\\users\\lucas\\appdata\\local\\programs\\python\\python310\\lib\\site-packages (from matplotlib) (4.33.3)\n",
      "Requirement already satisfied: packaging>=20.0 in c:\\users\\lucas\\appdata\\local\\programs\\python\\python310\\lib\\site-packages (from matplotlib) (21.3)\n",
      "Requirement already satisfied: pyparsing>=2.2.1 in c:\\users\\lucas\\appdata\\local\\programs\\python\\python310\\lib\\site-packages (from matplotlib) (3.0.7)\n",
      "Requirement already satisfied: kiwisolver>=1.0.1 in c:\\users\\lucas\\appdata\\local\\programs\\python\\python310\\lib\\site-packages (from matplotlib) (1.4.2)\n",
      "Requirement already satisfied: numpy>=1.17 in c:\\users\\lucas\\appdata\\local\\programs\\python\\python310\\lib\\site-packages (from matplotlib) (1.22.2)\n",
      "Requirement already satisfied: cycler>=0.10 in c:\\users\\lucas\\appdata\\local\\programs\\python\\python310\\lib\\site-packages (from matplotlib) (0.11.0)\n",
      "Requirement already satisfied: python-dateutil>=2.7 in c:\\users\\lucas\\appdata\\roaming\\python\\python310\\site-packages (from matplotlib) (2.8.2)\n",
      "Requirement already satisfied: pillow>=6.2.0 in c:\\users\\lucas\\appdata\\local\\programs\\python\\python310\\lib\\site-packages (from matplotlib) (9.1.0)\n",
      "Requirement already satisfied: six>=1.5 in c:\\users\\lucas\\appdata\\roaming\\python\\python310\\site-packages (from python-dateutil>=2.7->matplotlib) (1.16.0)\n"
     ]
    }
   ],
   "source": [
    "%pip install matplotlib\n"
   ]
  },
  {
   "cell_type": "code",
   "execution_count": 5,
   "metadata": {},
   "outputs": [
    {
     "name": "stdout",
     "output_type": "stream",
     "text": [
      "Requirement already satisfied: seaborn in c:\\users\\lucas\\appdata\\local\\programs\\python\\python310\\lib\\site-packages (0.11.2)\n",
      "Requirement already satisfied: scipy>=1.0 in c:\\users\\lucas\\appdata\\local\\programs\\python\\python310\\lib\\site-packages (from seaborn) (1.8.0)\n",
      "Requirement already satisfied: numpy>=1.15 in c:\\users\\lucas\\appdata\\local\\programs\\python\\python310\\lib\\site-packages (from seaborn) (1.22.2)\n",
      "Requirement already satisfied: pandas>=0.23 in c:\\users\\lucas\\appdata\\local\\programs\\python\\python310\\lib\\site-packages (from seaborn) (1.4.2)\n",
      "Requirement already satisfied: matplotlib>=2.2 in c:\\users\\lucas\\appdata\\local\\programs\\python\\python310\\lib\\site-packages (from seaborn) (3.5.2)\n",
      "Requirement already satisfied: packaging>=20.0 in c:\\users\\lucas\\appdata\\local\\programs\\python\\python310\\lib\\site-packages (from matplotlib>=2.2->seaborn) (21.3)\n",
      "Requirement already satisfied: kiwisolver>=1.0.1 in c:\\users\\lucas\\appdata\\local\\programs\\python\\python310\\lib\\site-packages (from matplotlib>=2.2->seaborn) (1.4.2)\n",
      "Requirement already satisfied: cycler>=0.10 in c:\\users\\lucas\\appdata\\local\\programs\\python\\python310\\lib\\site-packages (from matplotlib>=2.2->seaborn) (0.11.0)\n",
      "Requirement already satisfied: python-dateutil>=2.7 in c:\\users\\lucas\\appdata\\roaming\\python\\python310\\site-packages (from matplotlib>=2.2->seaborn) (2.8.2)\n",
      "Requirement already satisfied: pyparsing>=2.2.1 in c:\\users\\lucas\\appdata\\local\\programs\\python\\python310\\lib\\site-packages (from matplotlib>=2.2->seaborn) (3.0.7)\n",
      "Requirement already satisfied: fonttools>=4.22.0 in c:\\users\\lucas\\appdata\\local\\programs\\python\\python310\\lib\\site-packages (from matplotlib>=2.2->seaborn) (4.33.3)\n",
      "Requirement already satisfied: pillow>=6.2.0 in c:\\users\\lucas\\appdata\\local\\programs\\python\\python310\\lib\\site-packages (from matplotlib>=2.2->seaborn) (9.1.0)\n",
      "Requirement already satisfied: pytz>=2020.1 in c:\\users\\lucas\\appdata\\local\\programs\\python\\python310\\lib\\site-packages (from pandas>=0.23->seaborn) (2022.1)\n",
      "Requirement already satisfied: six>=1.5 in c:\\users\\lucas\\appdata\\roaming\\python\\python310\\site-packages (from python-dateutil>=2.7->matplotlib>=2.2->seaborn) (1.16.0)\n",
      "Note: you may need to restart the kernel to use updated packages.\n"
     ]
    },
    {
     "name": "stderr",
     "output_type": "stream",
     "text": [
      "WARNING: You are using pip version 22.0.3; however, version 22.1.1 is available.\n",
      "You should consider upgrading via the 'c:\\Users\\lucas\\AppData\\Local\\Programs\\Python\\Python310\\python.exe -m pip install --upgrade pip' command.\n"
     ]
    }
   ],
   "source": [
    "%pip install seaborn\n"
   ]
  },
  {
   "cell_type": "code",
   "execution_count": 6,
   "metadata": {},
   "outputs": [],
   "source": [
    "import sentence_transformers\n",
    "import matplotlib.pyplot as plt\n",
    "import numpy as np\n",
    "import pandas as pd\n",
    "import seaborn as sns\n"
   ]
  },
  {
   "cell_type": "markdown",
   "metadata": {},
   "source": [
    "# 2. Instalação do pacote Ullysses Fetcher para busca do modelo"
   ]
  },
  {
   "cell_type": "code",
   "execution_count": 7,
   "metadata": {},
   "outputs": [
    {
     "name": "stdout",
     "output_type": "stream",
     "text": [
      "Collecting git+https://github.com/ulysses-camara/ulysses-fetcher@v0.1.1-beta\n",
      "  Cloning https://github.com/ulysses-camara/ulysses-fetcher (to revision v0.1.1-beta) to c:\\users\\lucas\\appdata\\local\\temp\\pip-req-build-lovoq0f9\n",
      "  Resolved https://github.com/ulysses-camara/ulysses-fetcher to commit 933107853f4794beb2ffbd99ec4c25437e569aea\n",
      "  Installing build dependencies: started\n",
      "  Installing build dependencies: finished with status 'done'\n",
      "  Getting requirements to build wheel: started\n",
      "  Getting requirements to build wheel: finished with status 'done'\n",
      "  Preparing metadata (pyproject.toml): started\n",
      "  Preparing metadata (pyproject.toml): finished with status 'done'\n",
      "Requirement already satisfied: tqdm>=4.64.0 in c:\\users\\lucas\\appdata\\local\\programs\\python\\python310\\lib\\site-packages (from buscador==0.1.1) (4.64.0)\n",
      "Requirement already satisfied: colorama in c:\\users\\lucas\\appdata\\local\\programs\\python\\python310\\lib\\site-packages (from tqdm>=4.64.0->buscador==0.1.1) (0.4.4)\n"
     ]
    },
    {
     "name": "stderr",
     "output_type": "stream",
     "text": [
      "  Running command git clone --filter=blob:none --quiet https://github.com/ulysses-camara/ulysses-fetcher 'C:\\Users\\lucas\\AppData\\Local\\Temp\\pip-req-build-lovoq0f9'\n",
      "  Running command git checkout -q 933107853f4794beb2ffbd99ec4c25437e569aea\n",
      "WARNING: You are using pip version 22.0.3; however, version 22.1.1 is available.\n",
      "You should consider upgrading via the 'c:\\Users\\lucas\\AppData\\Local\\Programs\\Python\\Python310\\python.exe -m pip install --upgrade pip' command.\n"
     ]
    }
   ],
   "source": [
    "#instalação do Ulysses Fetcher, para buscar os datasets no Github do projeto\n",
    "!python -m pip install \"git+https://github.com/ulysses-camara/ulysses-fetcher@v0.1.1-beta\"\n",
    "import buscador\n",
    "\n"
   ]
  },
  {
   "cell_type": "markdown",
   "metadata": {},
   "source": [
    "### &nbsp;&nbsp;&nbsp;&nbsp;&nbsp;&nbsp;a. Instalação do modelo de língua disponibilizado pelo buscador"
   ]
  },
  {
   "cell_type": "code",
   "execution_count": 8,
   "metadata": {},
   "outputs": [
    {
     "data": {
      "text/plain": [
       "True"
      ]
     },
     "execution_count": 8,
     "metadata": {},
     "output_type": "execute_result"
    }
   ],
   "source": [
    "buscador.download_model(\n",
    "    task_name=\"sentence_similarity\",\n",
    "    model_name=\"distil_sbert_br_ctimproved_12_epochs_v1\",\n",
    ")"
   ]
  },
  {
   "cell_type": "markdown",
   "metadata": {},
   "source": [
    "# 3.Carga do Modelo de língua"
   ]
  },
  {
   "cell_type": "code",
   "execution_count": 9,
   "metadata": {},
   "outputs": [
    {
     "data": {
      "text/plain": [
       "SentenceTransformer(\n",
       "  (0): Transformer({'max_seq_length': 128, 'do_lower_case': False}) with Transformer model: BertModel \n",
       "  (1): Pooling({'word_embedding_dimension': 768, 'pooling_mode_cls_token': False, 'pooling_mode_mean_tokens': True, 'pooling_mode_max_tokens': False, 'pooling_mode_mean_sqrt_len_tokens': False})\n",
       ")"
      ]
     },
     "execution_count": 9,
     "metadata": {},
     "output_type": "execute_result"
    }
   ],
   "source": [
    "#Carga dos modelos de Línuga:\n",
    "Legalbert = sentence_transformers.SentenceTransformer(\n",
    "    \"distil_sbert_br_ctimproved_12_epochs_v1\",\n",
    "    device=\"cpu\",\n",
    ")\n",
    "Legalbert"
   ]
  },
  {
   "cell_type": "markdown",
   "metadata": {},
   "source": [
    "# 4. Leitura e tratamento dos datasets"
   ]
  },
  {
   "cell_type": "code",
   "execution_count": 10,
   "metadata": {},
   "outputs": [],
   "source": [
    "df_2019 = pd.read_csv(\"Cópia de proposicao-tema-completo-sem-duplicado-2019-all-fields.csv\", delimiter=\",\")\n",
    "df_2019.dropna(inplace=True)\n",
    "df_assunto = pd.read_csv(\"dados-conle-anonimizado - UTF8 - dados-conle-anonimizado - UTF8.csv\", delimiter=\",\")\n",
    "df_assunto.dropna(inplace=True)"
   ]
  },
  {
   "cell_type": "code",
   "execution_count": null,
   "metadata": {},
   "outputs": [],
   "source": [
    "df_2019"
   ]
  },
  {
   "cell_type": "code",
   "execution_count": null,
   "metadata": {},
   "outputs": [],
   "source": [
    "df_assunto"
   ]
  },
  {
   "cell_type": "markdown",
   "metadata": {},
   "source": [
    "### &nbsp;&nbsp;&nbsp;&nbsp;&nbsp;&nbsp;a) Transformação da coluna desejada em uma lista para realização do embedding"
   ]
  },
  {
   "cell_type": "code",
   "execution_count": 11,
   "metadata": {},
   "outputs": [],
   "source": [
    "corpus = df_2019[\"imgArquivoTeorPDF\"].to_list()#Informação a ser recuperada\n",
    "assunto = df_assunto[\"TxtAssunto\"].to_list()#query"
   ]
  },
  {
   "cell_type": "markdown",
   "metadata": {},
   "source": [
    "### &nbsp;&nbsp;&nbsp;&nbsp;&nbsp;&nbsp;b) Embeddings\n",
    "&nbsp;&nbsp;&nbsp;&nbsp;&nbsp;&nbsp;&nbsp;&nbsp;&nbsp;&nbsp;&nbsp;&nbsp;&nbsp;É importante manter o convert_to_tensor para q a similaridade do coseno seja aplicada para todas as possíveis combinações e não só entre pares de mesmo índice"
   ]
  },
  {
   "cell_type": "code",
   "execution_count": 15,
   "metadata": {},
   "outputs": [],
   "source": [
    "corpus_embeddings = Legalbert.encode(corpus, convert_to_tensor=True)\n",
    "assunto_embeddings = Legalbert.encode(assunto, convert_to_tensor=True)"
   ]
  },
  {
   "cell_type": "code",
   "execution_count": 16,
   "metadata": {},
   "outputs": [
    {
     "data": {
      "text/plain": [
       "tensor([[-0.4439,  0.2001,  0.9820,  ...,  0.8811,  0.5064, -1.1100],\n",
       "        [ 0.0875,  0.5138,  1.4369,  ...,  1.2880,  0.8155, -0.4028],\n",
       "        [-0.1484, -0.1145,  0.8551,  ...,  1.1228,  0.7317, -0.6372],\n",
       "        ...,\n",
       "        [-0.4330,  0.6352,  0.5552,  ...,  0.0425,  0.6367, -0.6963],\n",
       "        [-0.3444,  0.5556,  0.3161,  ...,  0.6431,  1.0358, -0.5214],\n",
       "        [ 0.1521,  0.3273,  0.8297,  ...,  0.2882,  0.6439, -0.7733]])"
      ]
     },
     "execution_count": 16,
     "metadata": {},
     "output_type": "execute_result"
    }
   ],
   "source": [
    "corpus_embeddings"
   ]
  },
  {
   "cell_type": "code",
   "execution_count": 17,
   "metadata": {},
   "outputs": [
    {
     "data": {
      "text/plain": [
       "torch.Size([3698, 768])"
      ]
     },
     "execution_count": 17,
     "metadata": {},
     "output_type": "execute_result"
    }
   ],
   "source": [
    "corpus_embeddings.shape"
   ]
  },
  {
   "cell_type": "code",
   "execution_count": 18,
   "metadata": {},
   "outputs": [
    {
     "data": {
      "text/plain": [
       "tensor([[-0.0698,  0.6265,  0.5076,  ...,  1.3335,  0.0857, -0.9466],\n",
       "        [ 0.0720,  0.5920,  0.9814,  ...,  0.4928,  0.4693, -0.1055],\n",
       "        [-0.4584,  0.3015,  0.2938,  ...,  0.7288,  0.5651, -0.3732],\n",
       "        ...,\n",
       "        [ 0.2114,  0.2241,  0.7106,  ...,  0.8874,  0.5363,  0.1850],\n",
       "        [-0.4006, -0.2026,  0.2947,  ...,  0.8082,  0.5174, -0.7255],\n",
       "        [-0.4030,  0.5429,  0.7337,  ...,  0.9249,  0.3361, -0.2826]])"
      ]
     },
     "execution_count": 18,
     "metadata": {},
     "output_type": "execute_result"
    }
   ],
   "source": [
    "assunto_embeddings"
   ]
  },
  {
   "cell_type": "code",
   "execution_count": 19,
   "metadata": {},
   "outputs": [
    {
     "data": {
      "text/plain": [
       "torch.Size([307, 768])"
      ]
     },
     "execution_count": 19,
     "metadata": {},
     "output_type": "execute_result"
    }
   ],
   "source": [
    "assunto_embeddings.shape"
   ]
  },
  {
   "cell_type": "markdown",
   "metadata": {},
   "source": [
    "# 5. Cálculo da similaridade do Coseno - query x txt"
   ]
  },
  {
   "cell_type": "code",
   "execution_count": 20,
   "metadata": {},
   "outputs": [],
   "source": [
    "cosine_scores = sentence_transformers.util.cos_sim(assunto_embeddings, corpus_embeddings)\n",
    "similarities = cosine_scores.tolist()[265] #lista dos scores de similaridades para a query n° 256, valor escolhido arbitrariamente.\n"
   ]
  },
  {
   "cell_type": "markdown",
   "metadata": {},
   "source": [
    "### &nbsp;&nbsp;&nbsp;&nbsp;&nbsp;&nbsp;a) Busca dos pares com maior similaridade entre todos, seguido de uma ordenação decrescente\n",
    "&nbsp;&nbsp;&nbsp;&nbsp;&nbsp;&nbsp;&nbsp;&nbsp;&nbsp;&nbsp;&nbsp;&nbsp;&nbsp;Notem que *pairs* é uma ***lista de dicionários*** para possibilitar appends e organizar os pares com os respectivos scores de forma mais legível"
   ]
  },
  {
   "cell_type": "code",
   "execution_count": 48,
   "metadata": {},
   "outputs": [],
   "source": [
    "pairs = list()\n",
    "\n",
    "for i in range(len(cosine_scores)):\n",
    "    pairs1 = list()\n",
    "    for j in range(len(cosine_scores[0])):\n",
    "        pairs1.append({'TituloPL': [i,j], 'score': cosine_scores[i][j]})\n",
    "    pairs.append(pairs1)\n"
   ]
  },
  {
   "cell_type": "code",
   "execution_count": 49,
   "metadata": {},
   "outputs": [],
   "source": [
    "from operator import itemgetter\n",
    "for k in range(len(pairs)):\n",
    "    pairs[k] = sorted(pairs[k], key=itemgetter('score'), reverse=True)"
   ]
  },
  {
   "cell_type": "markdown",
   "metadata": {},
   "source": [
    "# 6. Implementação da API do BM25L + RF para comparação."
   ]
  },
  {
   "cell_type": "code",
   "execution_count": 61,
   "metadata": {},
   "outputs": [
    {
     "name": "stderr",
     "output_type": "stream",
     "text": [
      "[nltk_data] Downloading package stopwords to\n",
      "[nltk_data]     C:\\Users\\lucas\\AppData\\Roaming\\nltk_data...\n",
      "[nltk_data]   Package stopwords is already up-to-date!\n",
      "[nltk_data] Downloading package punkt to\n",
      "[nltk_data]     C:\\Users\\lucas\\AppData\\Roaming\\nltk_data...\n",
      "[nltk_data]   Package punkt is already up-to-date!\n",
      "[nltk_data] Downloading package rslp to\n",
      "[nltk_data]     C:\\Users\\lucas\\AppData\\Roaming\\nltk_data...\n",
      "[nltk_data]   Package rslp is already up-to-date!\n"
     ]
    }
   ],
   "source": [
    "#Importando a biblioteca nltk\n",
    "\n",
    "import nltk\n",
    "\n",
    "nltk.download('stopwords')\n",
    "nltk.download('punkt')\n",
    "nltk.download('rslp')\n",
    "\n",
    "import sklearn"
   ]
  },
  {
   "cell_type": "code",
   "execution_count": 62,
   "metadata": {},
   "outputs": [],
   "source": [
    "#Algoritmo do BM25 Okapi\n",
    "\n",
    "import math\n",
    "import numpy as np\n",
    "from multiprocessing import Pool, cpu_count\n",
    "\n",
    "\"\"\"\n",
    "All of these algorithms have been taken from the paper:\n",
    "Trotmam et al, Improvements to BM25 and Language Models Examined\n",
    "Here we implement all the BM25 variations mentioned. \n",
    "\"\"\"\n",
    "\n",
    "\n",
    "class BM25:\n",
    "    def __init__(self, corpus, tokenizer=None):\n",
    "        self.corpus_size = len(corpus)\n",
    "        self.avgdl = 0\n",
    "        self.doc_freqs = []\n",
    "        self.idf = {}\n",
    "        self.doc_len = []\n",
    "        self.tokenizer = tokenizer\n",
    "        #Tokenizar o corpus\n",
    "        if tokenizer:\n",
    "            corpus = self._tokenize_corpus(corpus)\n",
    "\n",
    "        nd = self._initialize(corpus)\n",
    "        self._calc_idf(nd)\n",
    "\n",
    "    def _initialize(self, corpus):\n",
    "        nd = {}  # word -> number of documents with word\n",
    "        num_doc = 0\n",
    "        for document in corpus:\n",
    "            self.doc_len.append(len(document))\n",
    "            num_doc += len(document)\n",
    "\n",
    "            frequencies = {}\n",
    "            for word in document:\n",
    "                if word not in frequencies:\n",
    "                    frequencies[word] = 0\n",
    "                frequencies[word] += 1\n",
    "            self.doc_freqs.append(frequencies)\n",
    "\n",
    "            for word, freq in frequencies.items():\n",
    "                try:\n",
    "                    nd[word] += 1\n",
    "                except KeyError:\n",
    "                    nd[word] = 1\n",
    "\n",
    "        self.avgdl = num_doc / self.corpus_size\n",
    "\n",
    "        return nd\n",
    "\n",
    "    def _tokenize_corpus(self, corpus):\n",
    "        pool = Pool(cpu_count())\n",
    "        tokenized_corpus = pool.map(self.tokenizer, corpus)\n",
    "        return tokenized_corpus\n",
    "\n",
    "    def _calc_idf(self, nd):\n",
    "        raise NotImplementedError()\n",
    "\n",
    "    def get_scores(self, query):\n",
    "        raise NotImplementedError()\n",
    "\n",
    "    def get_batch_scores(self, query, doc_ids):\n",
    "        raise NotImplementedError()\n",
    "\n",
    "    def get_top_n(self, query, documents, n=5):\n",
    "\n",
    "        assert self.corpus_size == len(documents), \"The documents given don't match the index corpus!\"\n",
    "\n",
    "        scores = self.get_scores(query)\n",
    "        top_n = np.argsort(scores)[::-1][:n]\n",
    "        return [documents[i] for i in top_n]\n",
    "\n",
    "    def get_top_n_ngram(self, score, documents, n=5):\n",
    "\n",
    "        assert self.corpus_size == len(documents), \"The documents given don't match the index corpus!\"\n",
    "\n",
    "        pdr = np.zeros(self.corpus_size)\n",
    "        alpha = 2\n",
    "        for ps in score:\n",
    "            pdr = np.add(pdr, alpha * ps)\n",
    "            alpha -= 1\n",
    "\n",
    "        top_n = np.argsort(pdr)[::-1][:n]\n",
    "        return [documents[i] for i in top_n]\n",
    "\n",
    "    def get_partial_score(self, query, documents):\n",
    "        assert self.corpus_size == len(documents), \"The documents given don't match the index corpus!\"\n",
    "\n",
    "        score = self.get_scores(query)\n",
    "\n",
    "        return score\n",
    "\n",
    "    def get_top_n_score(self, scores, documents, n=5):\n",
    "\n",
    "        assert self.corpus_size == len(documents), \"The documents given don't match the index corpus!\"\n",
    "\n",
    "        top_n = np.argsort(scores)[::-1][:n]\n",
    "        return [documents[i] for i in top_n]"
   ]
  },
  {
   "cell_type": "code",
   "execution_count": 63,
   "metadata": {},
   "outputs": [],
   "source": [
    "#Implementacao do BM25L - adapta parametros para corrigir a preferencia do Okapi por documentos mais curtos\n",
    "\n",
    "class BM25L(BM25):\n",
    "    def __init__(self, corpus, tokenizer=None, k1=2.4, b=0.9, epsilon=0.25):\n",
    "        self.k1 = k1\n",
    "        self.b = b\n",
    "        self.epsilon = epsilon\n",
    "        super().__init__(corpus, tokenizer)\n",
    "\n",
    "    #Calculo do IDF (Inverse Document Frequency)\n",
    "    def _calc_idf(self, nd):\n",
    "        \"\"\"\n",
    "        Calculates frequencies of terms in documents and in corpus.\n",
    "        This algorithm sets a floor on the idf values to eps * average_idf\n",
    "        \"\"\"\n",
    "        # collect idf sum to calculate an average idf for epsilon value\n",
    "        idf_sum = 0\n",
    "        # collect words with negative idf to set them a special epsilon value.\n",
    "        # idf can be negative if word is contained in more than half of documents\n",
    "        negative_idfs = []\n",
    "        for word, freq in nd.items():\n",
    "            idf = math.log(self.corpus_size + 1) - math.log(freq + 0.5)\n",
    "            self.idf[word] = idf\n",
    "            idf_sum += idf\n",
    "            if idf < 0:\n",
    "                negative_idfs.append(word)\n",
    "        self.average_idf = idf_sum / len(self.idf)\n",
    "\n",
    "        eps = self.epsilon * self.average_idf\n",
    "        for word in negative_idfs:\n",
    "            self.idf[word] = eps\n",
    "    \n",
    "    #Calculo do ctd\n",
    "    def get_ctd(self, q_freq, b, doc_len, avg_len):\n",
    "      ctd = q_freq/(1 - b + b*(doc_len)/(avg_len))\n",
    "      return ctd\n",
    "\n",
    "    #Avaliar a pontuacao de todos os documentos na base\n",
    "    def get_scores(self, query):\n",
    "        \"\"\"\n",
    "        The ATIRE BM25 variant uses an idf function which uses a log(idf) score. To prevent negative idf scores,\n",
    "        this algorithm also adds a floor to the idf value of epsilon.\n",
    "        See [Trotman, A., X. Jia, M. Crane, Towards an Efficient and Effective Search Engine] for more info\n",
    "        :param query:\n",
    "        :return:\n",
    "        \"\"\"\n",
    "        score = np.zeros(self.corpus_size)\n",
    "        doc_len = np.array(self.doc_len)\n",
    "\n",
    "        for q in query:\n",
    "            q_freq = np.array([(doc.get(q) or 0) for doc in self.doc_freqs])\n",
    "            ctd = self.get_ctd(q_freq, self.b, doc_len, self.avgdl)\n",
    "            score += (self.idf.get(q) or 0) * ( (ctd + 0.5) * (self.k1 + 1) /\n",
    "                                               ( (ctd + 0.5) + self.k1 ))\n",
    "        return score\n",
    "\n",
    "    def get_batch_scores(self, query, doc_ids):\n",
    "        \"\"\"\n",
    "        Calculate bm25 scores between query and subset of all docs\n",
    "        \"\"\"\n",
    "        assert all(di < len(self.doc_freqs) for di in doc_ids)\n",
    "        score = np.zeros(len(doc_ids))\n",
    "        doc_len = np.array(self.doc_len)[doc_ids]\n",
    "        for q in query:\n",
    "            q_freq = np.array([(self.doc_freqs[di].get(q) or 0) for di in doc_ids])\n",
    "            score += (self.idf.get(q) or 0) * (q_freq * (self.k1 + 1) /\n",
    "                                               (q_freq + self.k1 * (1 - self.b + self.b * doc_len / self.avgdl)))\n",
    "        return score.tolist()\n",
    "        \n",
    "    def lambda_update(self, scores, lambdas, data):\n",
    "        \"\"\"\n",
    "        Updates bm25 scores using the lambdas values\n",
    "        \"\"\"\n",
    "        data = data[data[\"imgArquivoTeorPDF\"].notna()]\n",
    "        data.reset_index(inplace=True)\n",
    "\n",
    "        for i in range(len(data)):\n",
    "            nome_doc = data[\"txtNome\"][i].strip()\n",
    "            if nome_doc in lambdas.keys():\n",
    "                scores[i] += lambdas[nome_doc]\n",
    "\n",
    "        return scores\n",
    "\n",
    "    def lambda_calc(self, queries_ds, query, cut, delta):\n",
    "        \"\"\"\n",
    "        Searches for similar queries; returns dictionary\n",
    "        \"\"\"\n",
    "        # CSV treatment\n",
    "        all_queries = queries_ds[\"query\"].tolist()\n",
    "        all_queries.append(query)\n",
    "        lista_doc = [str(q).replace(\"[\", \"\").replace(\"]\", \"\").replace('\"', '').split(\";\") for q in\n",
    "                     queries_ds[\"documents\"]]\n",
    "\n",
    "        vectorizer = TfidfVectorizer()\n",
    "        vectorizer.fit(all_queries)\n",
    "        vsm_2 = vectorizer.transform(queries_ds[\"query\"].tolist())\n",
    "        vsm_1 = vectorizer.transform([query])\n",
    "        similarities = cosine_similarity(vsm_1, vsm_2).tolist()[0]\n",
    "\n",
    "        doc_sim = [(lista_doc[j], similarities[j]) for j in range(len(similarities)) if similarities[j] > cut]\n",
    "\n",
    "        dic = {}\n",
    "        for tuple in doc_sim:\n",
    "            for doc in tuple[0]:\n",
    "                l = doc.split(\",\")\n",
    "                if l[0] in dic:\n",
    "                    dic[l[0].strip().replace(\"'\", \"\")] += float(l[2]) * float(tuple[1])\n",
    "                else:\n",
    "                    dic[l[0].strip().replace(\"'\", \"\")] = float(l[2]) * float(tuple[1])  # calculando a soma do produto sim*score\n",
    "\n",
    "        for key in dic:\n",
    "            dic[key] = np.log(dic[key] + 1) * delta\n",
    "        return dic\n"
   ]
  },
  {
   "cell_type": "code",
   "execution_count": 64,
   "metadata": {},
   "outputs": [],
   "source": [
    "# carregando corpus\n",
    "\n",
    "# Selecting list of documents to be read\n",
    "input_file = \"Cópia de proposicao-tema-completo-sem-duplicado-2019-all-fields.csv\"      # must be replaced with a file containing the corpus\n",
    "df = pd.read_csv(input_file, encoding=\"utf-8\")"
   ]
  },
  {
   "cell_type": "code",
   "execution_count": 65,
   "metadata": {},
   "outputs": [],
   "source": [
    "data = df.imgArquivoTeorPDF.dropna()        # Trocar com nome da coluna desejada\n",
    "data = data.to_numpy()"
   ]
  },
  {
   "cell_type": "code",
   "execution_count": 66,
   "metadata": {},
   "outputs": [],
   "source": [
    "from nltk.tokenize import word_tokenize\n",
    "from string import punctuation\n",
    "import nltk\n",
    "from unicodedata import normalize\n",
    "from nltk.stem import RSLPStemmer\n",
    "from nltk.util import ngrams\n",
    "from nltk.tokenize import RegexpTokenizer\n",
    "\n",
    "# Remove os acentos de uma string\n",
    "def _remove_acentos(txt):\n",
    "    return normalize('NFKD', txt).encode('ASCII', 'ignore').decode('ASCII')\n",
    "\n",
    "# Remoção de stopwords + acentuação\n",
    "def preprocess2(txt):\n",
    "    txt = _remove_acentos(txt)\n",
    "    stopwords = nltk.corpus.stopwords.words(\"portuguese\")\n",
    "    stopwords.extend(list(punctuation))\n",
    "    \n",
    "    # terms = word_tokenize(txt.lower())\n",
    "    tokenizer = RegexpTokenizer('\\w+')\n",
    "    terms = tokenizer.tokenize(txt.lower())\n",
    "    terms = [word for word in terms if word not in stopwords]\n",
    "\n",
    "    return terms\n",
    "\n",
    "# Remoção de stopwords + acentuação + steming\n",
    "def preprocess3(txt):\n",
    "    txt = _remove_acentos(txt)\n",
    "    stopwords = nltk.corpus.stopwords.words(\"portuguese\")\n",
    "    stopwords.extend(list(punctuation))\n",
    "\n",
    "    stemmer = RSLPStemmer()\n",
    "    # terms = word_tokenize(txt.lower())\n",
    "    tokenizer = RegexpTokenizer('\\w+')\n",
    "    terms = tokenizer.tokenize(txt.lower())\n",
    "    terms = [stemmer.stem(word) for word in terms if word not in stopwords]\n",
    "    return terms\n",
    "\n",
    "# Remoção de stopwords + acentuação + n-gram\n",
    "def preprocess_ngram(txt, n):\n",
    "    txt = _remove_acentos(txt)\n",
    "    stopwords = nltk.corpus.stopwords.words(\"portuguese\")\n",
    "    stopwords.extend(list(punctuation))\n",
    "\n",
    "    # terms = word_tokenize(txt.lower())\n",
    "    tokenizer = RegexpTokenizer('\\w+')\n",
    "    terms = tokenizer.tokenize(txt.lower())\n",
    "    terms = [word for word in terms if word not in stopwords]\n",
    "\n",
    "    ngram = list(ngrams(terms, n))\n",
    "\n",
    "    return ngram\n",
    "\n",
    "# Remoção de stopwords + acentuação + steming + n-gram\n",
    "def preprocess_ngram_stem(txt, n):\n",
    "    txt = _remove_acentos(txt)\n",
    "    stopwords = nltk.corpus.stopwords.words(\"portuguese\")\n",
    "    stopwords.extend(list(punctuation))\n",
    "\n",
    "    stemmer = RSLPStemmer()\n",
    "    # terms = word_tokenize(txt.lower())\n",
    "    tokenizer = RegexpTokenizer('\\w+')\n",
    "    terms = tokenizer.tokenize(txt.lower())\n",
    "    terms = [stemmer.stem(word) for word in terms if word not in stopwords]\n",
    "\n",
    "    ngram = list(ngrams(terms, n))\n",
    "\n",
    "    return ngram"
   ]
  },
  {
   "cell_type": "code",
   "execution_count": 67,
   "metadata": {},
   "outputs": [],
   "source": [
    "tokenized_corpus3 = [preprocess3(doc) for doc in data]                      #Stopwords + Acentuação + Stemming"
   ]
  },
  {
   "cell_type": "code",
   "execution_count": 68,
   "metadata": {},
   "outputs": [],
   "source": [
    "bm25L = BM25L(tokenized_corpus3)              #Stopwords + Acentuação + Stemming"
   ]
  },
  {
   "cell_type": "code",
   "execution_count": 69,
   "metadata": {},
   "outputs": [],
   "source": [
    "# Pesquisando por assuntos\n",
    "df_assunto = pd.read_csv(\"dados-conle-anonimizado - UTF8 - dados-conle-anonimizado - UTF8.csv\", delimiter=',', encoding=\"utf-8\")\n",
    "df_assunto.dropna(inplace=True)"
   ]
  },
  {
   "cell_type": "code",
   "execution_count": 72,
   "metadata": {},
   "outputs": [],
   "source": [
    "# Obtem o nome do texto no df\n",
    "def get_name(df, doc):\n",
    "    return str(df[df.imgArquivoTeorPDF==doc].txtNome.to_numpy()[0]).strip()\n"
   ]
  },
  {
   "cell_type": "code",
   "execution_count": 73,
   "metadata": {},
   "outputs": [],
   "source": [
    "# Modificar pra nova base\n",
    "arr_assunto = df_assunto.to_numpy()\n",
    "y,X = arr_assunto[:,0],arr_assunto[:,1]\n",
    "y = [i.strip() for i in y]"
   ]
  },
  {
   "cell_type": "code",
   "execution_count": 74,
   "metadata": {},
   "outputs": [],
   "source": [
    "base_feedback = pd.read_csv('Cópia de base-feedback-nosso.csv', delimiter=';', encoding=\"latin1\")"
   ]
  },
  {
   "cell_type": "code",
   "execution_count": 75,
   "metadata": {},
   "outputs": [],
   "source": [
    "from sklearn.feature_extraction.text import TfidfVectorizer\n",
    "from sklearn.metrics.pairwise import cosine_similarity\n",
    "\n",
    "labels_old = list()\n",
    "labels_new = list()\n",
    "labels_bert = list()\n",
    "l_v = list()\n",
    "\n",
    "for l, x in zip(y, X):\n",
    "    tokenized_query = preprocess3(x)  # Stopwords + Acentuação + Stemming\n",
    "\n",
    "    # Stopwords + Acentuação + Stemming + Unigram + Bigram (L)\n",
    "    scores_stem_l = list()\n",
    "\n",
    "    # Cálculo dos lambdas para a query\n",
    "    lambdas = bm25L.lambda_calc(base_feedback, x, cut=0.6, delta=0.7)\n",
    "\n",
    "    # Processo normal do BM25\n",
    "    scores = bm25L.get_partial_score(tokenized_query, data)\n",
    "    scores_norm = (scores - np.min(scores)) / (np.max(scores) - np.min(scores))\n",
    "\n",
    "    top_n_old = bm25L.get_top_n_score(scores_norm, data, n=20)\n",
    "    label_old = [get_name(df, d) for d in top_n_old]\n",
    "\n",
    "    # Cálculo dos novos scores; seleção dos n documentos com base nos scores novos\n",
    "    new_scores = bm25L.lambda_update(scores_norm, lambdas, df)\n",
    "    top_n_new = bm25L.get_top_n_score(new_scores, data, n=20)\n",
    "    label_new = [get_name(df, d) for d in top_n_new]\n",
    "\n",
    "    \n",
    "\n",
    "    # Adicionar os resultados da query as listas\n",
    "\n",
    "    labels_old.append(label_old)\n",
    "    labels_new.append(label_new)\n",
    "    # Adicionar resposta esperada a lista\n",
    "    l_v.append(l)\n"
   ]
  },
  {
   "cell_type": "markdown",
   "metadata": {},
   "source": [
    "# 7. A partir daqui seguem as avaliações de recall dos modelos."
   ]
  },
  {
   "cell_type": "markdown",
   "metadata": {},
   "source": [
    "### &nbsp;&nbsp;&nbsp;&nbsp;&nbsp;&nbsp; Seguindo uma lógica semelhante à da API do BM25 \n",
    "&nbsp;&nbsp;&nbsp;&nbsp;&nbsp;&nbsp;&nbsp;&nbsp;&nbsp;&nbsp;&nbsp;&nbsp;&nbsp; O primeiro passo é a criação de uma lista com o \"nome\" dos N textos melhor ranqueados na etapa de IR. Essa lista é, depois, utilizada para a avaliação."
   ]
  },
  {
   "cell_type": "code",
   "execution_count": 77,
   "metadata": {},
   "outputs": [],
   "source": [
    "def bert_get_name(pairs, n):\n",
    "    labels_bert = list()\n",
    "    for j in range(len(pairs)):\n",
    "        labels = list()\n",
    "        for i in range(n):\n",
    "            labels.append(str(df_2019.iloc[pairs[j][i]['TituloPL'][1]].txtNome).strip())\n",
    "        \n",
    "        labels_bert.append(labels)\n",
    "    return labels_bert    "
   ]
  },
  {
   "cell_type": "code",
   "execution_count": 78,
   "metadata": {},
   "outputs": [],
   "source": [
    "# Cálculo e adição dos scores do BERT\n",
    "labels_bert = bert_get_name(pairs,21)"
   ]
  },
  {
   "cell_type": "code",
   "execution_count": 79,
   "metadata": {},
   "outputs": [],
   "source": [
    "res_old = list()\n",
    "res_new = list()\n",
    "res_bert = list()\n",
    "for k in range(1, 21):\n",
    "\n",
    "    result_old = list()\n",
    "    result_new = list()\n",
    "    result_bert = list()\n",
    "    for i in range(len(l_v)):\n",
    "            \n",
    "        if (l_v[i] in labels_old[i][:k]):\n",
    "            result_old.append(1)\n",
    "        else:\n",
    "            result_old.append(0)\n",
    "\n",
    "        if (l_v[i] in labels_new[i][:k]):\n",
    "            result_new.append(1)\n",
    "        else:\n",
    "            result_new.append(0)\n",
    "\n",
    "        if (l_v[i] in labels_bert[i][:k]):\n",
    "            result_bert.append(1)\n",
    "        else:\n",
    "            result_bert.append(0)\n",
    "\n",
    "    res_old.append(sum(result_old)/len(result_old))\n",
    "    res_new.append(sum(result_new)/len(result_new))\n",
    "    res_bert.append(sum(result_bert)/len(result_bert))"
   ]
  },
  {
   "cell_type": "code",
   "execution_count": 83,
   "metadata": {},
   "outputs": [
    {
     "name": "stdout",
     "output_type": "stream",
     "text": [
      "BM25L\n",
      "Quantidade encontrada: 239\n",
      "Quantidade total: 307\n",
      "Acurácia 10 docs: 0.7687296416938111\n",
      "Acurácia 20 docs: 0.7785016286644951\n",
      "\n",
      "\n",
      "BM25L + LAMBDA\n",
      "Quantidade encontrada: 239\n",
      "Quantidade total: 307\n",
      "Acurácia 10 docs: 0.7687296416938111\n",
      "Acurácia 20 docs: 0.7785016286644951\n",
      "\n",
      "\n",
      "LBert\n",
      "Quantidade encontrada: 92\n",
      "Quantidade total: 307\n",
      "Acurácia 10 docs: 0.23127035830618892\n",
      "Acurácia 20 docs: 0.2996742671009772\n",
      "\n",
      "\n"
     ]
    }
   ],
   "source": [
    "'''\n",
    "Exibe a acuracia do algoritmo\n",
    "'''\n",
    "\n",
    "\n",
    "print(\"BM25L\")\n",
    "print(f\"Quantidade encontrada: {sum(result_old)}\")\n",
    "print(f\"Quantidade total: {len(arr_assunto)}\")\n",
    "print(f\"Acurácia 10 docs: {res_old[9]}\")\n",
    "print(f\"Acurácia 20 docs: {res_old[-1]}\\n\\n\")\n",
    "\n",
    "print(\"BM25L + LAMBDA\")\n",
    "print(f\"Quantidade encontrada: {sum(result_new)}\")\n",
    "print(f\"Quantidade total: {len(arr_assunto)}\")\n",
    "print(f\"Acurácia 10 docs: {res_new[9]}\")\n",
    "print(f\"Acurácia 20 docs: {res_new[-1]}\\n\\n\")\n",
    "\n",
    "print(\"LBert\")\n",
    "print(f\"Quantidade encontrada: {sum(result_bert)}\")\n",
    "print(f\"Quantidade total: {len(arr_assunto)}\")\n",
    "print(f\"Acurácia 10 docs: {res_bert[9]}\")\n",
    "print(f\"Acurácia 20 docs: {res_bert[-1]}\\n\\n\")\n"
   ]
  },
  {
   "cell_type": "markdown",
   "metadata": {},
   "source": [
    "# 8. Geração de gráficos para visualização dos resultados."
   ]
  },
  {
   "cell_type": "code",
   "execution_count": 84,
   "metadata": {},
   "outputs": [
    {
     "data": {
      "image/png": "[encoded data removed]",
      "text/plain": [
       "<Figure size 1440x720 with 1 Axes>"
      ]
     },
     "metadata": {},
     "output_type": "display_data"
    }
   ],
   "source": [
    "sns.set(palette='colorblind')\n",
    "\n",
    "plt.figure(figsize=(20,10))\n",
    "plt.plot(np.arange(1,21), res_old, label=\"BM25L\")\n",
    "plt.plot(np.arange(1,21), res_new, label=\"BM25L + LAMBDA\")\n",
    "plt.plot(np.arange(1,21), res_bert, label=\"LegalBert\")\n",
    "\n",
    "plt.title(\"\")\n",
    "plt.legend()\n",
    "plt.ylabel(\"Target in Docs\")\n",
    "plt.xlabel(\"Top K Docs\")\n",
    "plt.show()\n"
   ]
  },
  {
   "cell_type": "markdown",
   "metadata": {},
   "source": [
    "# 9. Conclusão\n",
    "&nbsp;&nbsp;&nbsp;&nbsp;&nbsp;&nbsp;&nbsp;&nbsp;&nbsp;&nbsp;&nbsp;&nbsp;&nbsp; A performance do LegalBert é muito inferior à do BM25. É de conhecimento que das 307 queries restantes no dataset dos dados conle após a deleção dos campos nulos, 36 delas não estão presentes no dataset de proposições. Ainda assim, os resultados obtidos após alguns testes ainda apontam com consistência a superioridade do BM25 para o microsserviço em questão."
   ]
  }
 ],
 "metadata": {
  "interpreter": {
   "hash": "37083a178839ddb6837eca99e3841ef7be6dad5dc50c6d19829e2187d61ddd5d"
  },
  "kernelspec": {
   "display_name": "Python 3.10.2 64-bit",
   "language": "python",
   "name": "python3"
  },
  "language_info": {
   "codemirror_mode": {
    "name": "ipython",
    "version": 3
   },
   "file_extension": ".py",
   "mimetype": "text/x-python",
   "name": "python",
   "nbconvert_exporter": "python",
   "pygments_lexer": "ipython3",
   "version": "3.10.2"
  },
  "orig_nbformat": 4
 },
 "nbformat": 4,
 "nbformat_minor": 2
}
