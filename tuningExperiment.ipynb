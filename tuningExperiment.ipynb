{
 "cells": [
  {
   "cell_type": "code",
   "execution_count": 1,
   "metadata": {},
   "outputs": [],
   "source": [
    "from sentence_transformers import SentenceTransformer, SentencesDataset, util, SentencesDataset, InputExample, losses\n",
    "from torch.utils.data import DataLoader\n",
    "import torch\n",
    "import numpy as np\n",
    "import pandas as pd\n",
    "from tqdm import tqdm"
   ]
  },
  {
   "cell_type": "code",
   "execution_count": 2,
   "metadata": {},
   "outputs": [
    {
     "name": "stdout",
     "output_type": "stream",
     "text": [
      "Collecting git+https://github.com/ulysses-camara/ulysses-fetcher@v0.1.1-beta\n",
      "  Cloning https://github.com/ulysses-camara/ulysses-fetcher (to revision v0.1.1-beta) to c:\\users\\lucas\\appdata\\local\\temp\\pip-req-build-e8junje7\n",
      "  Resolved https://github.com/ulysses-camara/ulysses-fetcher to commit 933107853f4794beb2ffbd99ec4c25437e569aea\n",
      "  Installing build dependencies: started\n",
      "  Installing build dependencies: finished with status 'done'\n",
      "  Getting requirements to build wheel: started\n",
      "  Getting requirements to build wheel: finished with status 'done'\n",
      "  Preparing metadata (pyproject.toml): started\n",
      "  Preparing metadata (pyproject.toml): finished with status 'done'\n",
      "Requirement already satisfied: tqdm>=4.64.0 in c:\\users\\lucas\\appdata\\local\\programs\\python\\python310\\lib\\site-packages (from buscador==0.1.1) (4.64.0)\n",
      "Requirement already satisfied: colorama in c:\\users\\lucas\\appdata\\local\\programs\\python\\python310\\lib\\site-packages (from tqdm>=4.64.0->buscador==0.1.1) (0.4.4)\n"
     ]
    },
    {
     "name": "stderr",
     "output_type": "stream",
     "text": [
      "  Running command git clone --filter=blob:none --quiet https://github.com/ulysses-camara/ulysses-fetcher 'C:\\Users\\lucas\\AppData\\Local\\Temp\\pip-req-build-e8junje7'\n",
      "  Running command git checkout -q 933107853f4794beb2ffbd99ec4c25437e569aea\n",
      "WARNING: You are using pip version 22.0.3; however, version 22.2.2 is available.\n",
      "You should consider upgrading via the 'c:\\Users\\lucas\\AppData\\Local\\Programs\\Python\\Python310\\python.exe -m pip install --upgrade pip' command.\n"
     ]
    },
    {
     "data": {
      "text/plain": [
       "True"
      ]
     },
     "execution_count": 2,
     "metadata": {},
     "output_type": "execute_result"
    }
   ],
   "source": [
    "#instalação do Ulysses Fetcher, para buscar os datasets no Github do projeto\n",
    "!python -m pip install \"git+https://github.com/ulysses-camara/ulysses-fetcher@v0.1.1-beta\"\n",
    "import buscador\n",
    "buscador.download_model(\n",
    "    task_name=\"sentence_similarity\",\n",
    "    model_name=\"distil_sbert_br_ctimproved_12_epochs_v1\",\n",
    ")"
   ]
  },
  {
   "cell_type": "code",
   "execution_count": 3,
   "metadata": {},
   "outputs": [],
   "source": [
    "model_name = 'distil_sbert_br_tuned'\n",
    "train_batch_size = 16\n",
    "num_epochs = 5\n",
    "model_save_path = '.\\distil_sbert_br_tuned'"
   ]
  },
  {
   "cell_type": "code",
   "execution_count": 4,
   "metadata": {},
   "outputs": [],
   "source": [
    "model = SentenceTransformer(\n",
    "    \"distil_sbert_br_ctimproved_12_epochs_v1\",\n",
    "    device=\"cpu\",\n",
    ")\n"
   ]
  },
  {
   "cell_type": "code",
   "execution_count": 8,
   "metadata": {},
   "outputs": [],
   "source": [
    "df = pd.read_csv(\"usp_feedback_separado.csv\")"
   ]
  },
  {
   "cell_type": "code",
   "execution_count": 11,
   "metadata": {},
   "outputs": [],
   "source": [
    "df.drop(columns=['score', 'score_normalized', 'score_final', 'tipo', 'Unnamed: 0'], inplace=True)"
   ]
  },
  {
   "cell_type": "code",
   "execution_count": 13,
   "metadata": {},
   "outputs": [
    {
     "data": {
      "text/html": [
       "<div>\n",
       "<style scoped>\n",
       "    .dataframe tbody tr th:only-of-type {\n",
       "        vertical-align: middle;\n",
       "    }\n",
       "\n",
       "    .dataframe tbody tr th {\n",
       "        vertical-align: top;\n",
       "    }\n",
       "\n",
       "    .dataframe thead th {\n",
       "        text-align: right;\n",
       "    }\n",
       "</style>\n",
       "<table border=\"1\" class=\"dataframe\">\n",
       "  <thead>\n",
       "    <tr style=\"text-align: right;\">\n",
       "      <th></th>\n",
       "      <th>query</th>\n",
       "      <th>name</th>\n",
       "      <th>class</th>\n",
       "    </tr>\n",
       "  </thead>\n",
       "  <tbody>\n",
       "    <tr>\n",
       "      <th>0</th>\n",
       "      <td>Solicito projeto de lei para dispensar Guia de...</td>\n",
       "      <td>PL 3650/2021</td>\n",
       "      <td>r</td>\n",
       "    </tr>\n",
       "    <tr>\n",
       "      <th>1</th>\n",
       "      <td>Solicito projeto de lei para dispensar Guia de...</td>\n",
       "      <td>2896/2022</td>\n",
       "      <td>r</td>\n",
       "    </tr>\n",
       "    <tr>\n",
       "      <th>2</th>\n",
       "      <td>Solicito projeto de lei para dispensar Guia de...</td>\n",
       "      <td>PL 8104/2017</td>\n",
       "      <td>i</td>\n",
       "    </tr>\n",
       "    <tr>\n",
       "      <th>3</th>\n",
       "      <td>Solicito projeto de lei para dispensar Guia de...</td>\n",
       "      <td>PL 1689/2019</td>\n",
       "      <td>i</td>\n",
       "    </tr>\n",
       "    <tr>\n",
       "      <th>4</th>\n",
       "      <td>Solicito projeto de lei para dispensar Guia de...</td>\n",
       "      <td>PL 3514/2008</td>\n",
       "      <td>i</td>\n",
       "    </tr>\n",
       "  </tbody>\n",
       "</table>\n",
       "</div>"
      ],
      "text/plain": [
       "                                               query          name class\n",
       "0  Solicito projeto de lei para dispensar Guia de...  PL 3650/2021     r\n",
       "1  Solicito projeto de lei para dispensar Guia de...     2896/2022     r\n",
       "2  Solicito projeto de lei para dispensar Guia de...  PL 8104/2017     i\n",
       "3  Solicito projeto de lei para dispensar Guia de...  PL 1689/2019     i\n",
       "4  Solicito projeto de lei para dispensar Guia de...  PL 3514/2008     i"
      ]
     },
     "execution_count": 13,
     "metadata": {},
     "output_type": "execute_result"
    }
   ],
   "source": [
    "df.head()"
   ]
  },
  {
   "cell_type": "code",
   "execution_count": 14,
   "metadata": {},
   "outputs": [],
   "source": [
    "replacement_map = {\n",
    "    \"r\" : 1.0,\n",
    "    \"i\" : 0.0\n",
    "}\n",
    "df['class'] = df['class'].replace(replacement_map)"
   ]
  },
  {
   "cell_type": "code",
   "execution_count": 17,
   "metadata": {},
   "outputs": [],
   "source": [
    "for i in range(len(df)):\n",
    "    if df[\"class\"][i] == 'pr':\n",
    "        df.drop(i, inplace=True)"
   ]
  },
  {
   "cell_type": "code",
   "execution_count": 18,
   "metadata": {},
   "outputs": [],
   "source": [
    "df.reset_index(inplace=True)\n",
    "df.drop(columns=['index'], inplace=True)"
   ]
  },
  {
   "cell_type": "code",
   "execution_count": 19,
   "metadata": {},
   "outputs": [
    {
     "data": {
      "text/html": [
       "<div>\n",
       "<style scoped>\n",
       "    .dataframe tbody tr th:only-of-type {\n",
       "        vertical-align: middle;\n",
       "    }\n",
       "\n",
       "    .dataframe tbody tr th {\n",
       "        vertical-align: top;\n",
       "    }\n",
       "\n",
       "    .dataframe thead th {\n",
       "        text-align: right;\n",
       "    }\n",
       "</style>\n",
       "<table border=\"1\" class=\"dataframe\">\n",
       "  <thead>\n",
       "    <tr style=\"text-align: right;\">\n",
       "      <th></th>\n",
       "      <th>level_0</th>\n",
       "      <th>query</th>\n",
       "      <th>name</th>\n",
       "      <th>class</th>\n",
       "    </tr>\n",
       "  </thead>\n",
       "  <tbody>\n",
       "    <tr>\n",
       "      <th>0</th>\n",
       "      <td>0</td>\n",
       "      <td>Solicito projeto de lei para dispensar Guia de...</td>\n",
       "      <td>PL 3650/2021</td>\n",
       "      <td>1.0</td>\n",
       "    </tr>\n",
       "    <tr>\n",
       "      <th>1</th>\n",
       "      <td>1</td>\n",
       "      <td>Solicito projeto de lei para dispensar Guia de...</td>\n",
       "      <td>2896/2022</td>\n",
       "      <td>1.0</td>\n",
       "    </tr>\n",
       "    <tr>\n",
       "      <th>2</th>\n",
       "      <td>2</td>\n",
       "      <td>Solicito projeto de lei para dispensar Guia de...</td>\n",
       "      <td>PL 8104/2017</td>\n",
       "      <td>0.0</td>\n",
       "    </tr>\n",
       "    <tr>\n",
       "      <th>3</th>\n",
       "      <td>3</td>\n",
       "      <td>Solicito projeto de lei para dispensar Guia de...</td>\n",
       "      <td>PL 1689/2019</td>\n",
       "      <td>0.0</td>\n",
       "    </tr>\n",
       "    <tr>\n",
       "      <th>4</th>\n",
       "      <td>4</td>\n",
       "      <td>Solicito projeto de lei para dispensar Guia de...</td>\n",
       "      <td>PL 3514/2008</td>\n",
       "      <td>0.0</td>\n",
       "    </tr>\n",
       "    <tr>\n",
       "      <th>...</th>\n",
       "      <td>...</td>\n",
       "      <td>...</td>\n",
       "      <td>...</td>\n",
       "      <td>...</td>\n",
       "    </tr>\n",
       "    <tr>\n",
       "      <th>13940</th>\n",
       "      <td>13940</td>\n",
       "      <td>SEGURO-DEFESO DEPENDENTES DE PESCADORES ARTESA...</td>\n",
       "      <td>3636/2005</td>\n",
       "      <td>0.0</td>\n",
       "    </tr>\n",
       "    <tr>\n",
       "      <th>13941</th>\n",
       "      <td>13941</td>\n",
       "      <td>SEGURO-DEFESO DEPENDENTES DE PESCADORES ARTESA...</td>\n",
       "      <td>17795/2013</td>\n",
       "      <td>0.0</td>\n",
       "    </tr>\n",
       "    <tr>\n",
       "      <th>13942</th>\n",
       "      <td>13942</td>\n",
       "      <td>SEGURO-DEFESO DEPENDENTES DE PESCADORES ARTESA...</td>\n",
       "      <td>908/2007</td>\n",
       "      <td>0.0</td>\n",
       "    </tr>\n",
       "    <tr>\n",
       "      <th>13943</th>\n",
       "      <td>13943</td>\n",
       "      <td>SEGURO-DEFESO DEPENDENTES DE PESCADORES ARTESA...</td>\n",
       "      <td>5306/2005</td>\n",
       "      <td>0.0</td>\n",
       "    </tr>\n",
       "    <tr>\n",
       "      <th>13944</th>\n",
       "      <td>13944</td>\n",
       "      <td>SEGURO-DEFESO DEPENDENTES DE PESCADORES ARTESA...</td>\n",
       "      <td>7590/2008</td>\n",
       "      <td>0.0</td>\n",
       "    </tr>\n",
       "  </tbody>\n",
       "</table>\n",
       "<p>13945 rows × 4 columns</p>\n",
       "</div>"
      ],
      "text/plain": [
       "       level_0                                              query  \\\n",
       "0            0  Solicito projeto de lei para dispensar Guia de...   \n",
       "1            1  Solicito projeto de lei para dispensar Guia de...   \n",
       "2            2  Solicito projeto de lei para dispensar Guia de...   \n",
       "3            3  Solicito projeto de lei para dispensar Guia de...   \n",
       "4            4  Solicito projeto de lei para dispensar Guia de...   \n",
       "...        ...                                                ...   \n",
       "13940    13940  SEGURO-DEFESO DEPENDENTES DE PESCADORES ARTESA...   \n",
       "13941    13941  SEGURO-DEFESO DEPENDENTES DE PESCADORES ARTESA...   \n",
       "13942    13942  SEGURO-DEFESO DEPENDENTES DE PESCADORES ARTESA...   \n",
       "13943    13943  SEGURO-DEFESO DEPENDENTES DE PESCADORES ARTESA...   \n",
       "13944    13944  SEGURO-DEFESO DEPENDENTES DE PESCADORES ARTESA...   \n",
       "\n",
       "               name class  \n",
       "0      PL 3650/2021   1.0  \n",
       "1         2896/2022   1.0  \n",
       "2      PL 8104/2017   0.0  \n",
       "3      PL 1689/2019   0.0  \n",
       "4      PL 3514/2008   0.0  \n",
       "...             ...   ...  \n",
       "13940     3636/2005   0.0  \n",
       "13941    17795/2013   0.0  \n",
       "13942      908/2007   0.0  \n",
       "13943     5306/2005   0.0  \n",
       "13944     7590/2008   0.0  \n",
       "\n",
       "[13945 rows x 4 columns]"
      ]
     },
     "execution_count": 19,
     "metadata": {},
     "output_type": "execute_result"
    }
   ],
   "source": [
    "df"
   ]
  },
  {
   "cell_type": "code",
   "execution_count": 20,
   "metadata": {},
   "outputs": [],
   "source": [
    "df_corpus = pd.read_csv(\"usp_corpus_20220714.csv\")"
   ]
  },
  {
   "cell_type": "code",
   "execution_count": 21,
   "metadata": {},
   "outputs": [
    {
     "data": {
      "text/html": [
       "<div>\n",
       "<style scoped>\n",
       "    .dataframe tbody tr th:only-of-type {\n",
       "        vertical-align: middle;\n",
       "    }\n",
       "\n",
       "    .dataframe tbody tr th {\n",
       "        vertical-align: top;\n",
       "    }\n",
       "\n",
       "    .dataframe thead th {\n",
       "        text-align: right;\n",
       "    }\n",
       "</style>\n",
       "<table border=\"1\" class=\"dataframe\">\n",
       "  <thead>\n",
       "    <tr style=\"text-align: right;\">\n",
       "      <th></th>\n",
       "      <th>code</th>\n",
       "      <th>sig_tipo</th>\n",
       "      <th>name</th>\n",
       "      <th>txt_ementa</th>\n",
       "      <th>em_tramitacao</th>\n",
       "      <th>situacao</th>\n",
       "      <th>text</th>\n",
       "      <th>text_preprocessed</th>\n",
       "    </tr>\n",
       "  </thead>\n",
       "  <tbody>\n",
       "    <tr>\n",
       "      <th>0</th>\n",
       "      <td>2307087</td>\n",
       "      <td>INC</td>\n",
       "      <td>INC 1255/2021</td>\n",
       "      <td>Requer ao Poder Executivo federal o aumento do...</td>\n",
       "      <td>Sim</td>\n",
       "      <td>Aguardando Remessa ao Arquivo</td>\n",
       "      <td>INDICAÇÃO Nº      , DE 2021\\n(Do Sr. ZÉ SILVA)...</td>\n",
       "      <td>['indicaca', '2021', 'sr', 'ze', 'silv', 'requ...</td>\n",
       "    </tr>\n",
       "    <tr>\n",
       "      <th>1</th>\n",
       "      <td>2306960</td>\n",
       "      <td>PDL</td>\n",
       "      <td>PDL 990/2021</td>\n",
       "      <td>Susta os efeitos de dispositivo do Decreto nº ...</td>\n",
       "      <td>Sim</td>\n",
       "      <td>Aguardando Despacho do Presidente da Câmara do...</td>\n",
       "      <td>PROJETO DE DECRETO LEGISLATIVO Nº         , DE...</td>\n",
       "      <td>['projet', 'decret', 'legislativ', '2021', 'sr...</td>\n",
       "    </tr>\n",
       "    <tr>\n",
       "      <th>2</th>\n",
       "      <td>2306615</td>\n",
       "      <td>INC</td>\n",
       "      <td>INC 1234/2021</td>\n",
       "      <td>Sugere ao Ministério da Saúde a instalação de ...</td>\n",
       "      <td>Sim</td>\n",
       "      <td>Aguardando Resposta</td>\n",
       "      <td>INDICAÇÃO No                , DE 2021 \\n(Da Se...</td>\n",
       "      <td>['indicaca', '2021', 'senhor', 'perpetu', 'alm...</td>\n",
       "    </tr>\n",
       "    <tr>\n",
       "      <th>3</th>\n",
       "      <td>2306617</td>\n",
       "      <td>INC</td>\n",
       "      <td>INC 1236/2021</td>\n",
       "      <td>Sugere ao Ministério da Saúde a instalação de ...</td>\n",
       "      <td>Sim</td>\n",
       "      <td>Aguardando Resposta</td>\n",
       "      <td>INDICAÇÃO No                , DE 2021 \\n(Da Se...</td>\n",
       "      <td>['indicaca', '2021', 'senhor', 'perpetu', 'alm...</td>\n",
       "    </tr>\n",
       "    <tr>\n",
       "      <th>4</th>\n",
       "      <td>2306573</td>\n",
       "      <td>INC</td>\n",
       "      <td>INC 1230/2021</td>\n",
       "      <td>Sugere a aprovação de Convênio no Conselho Nac...</td>\n",
       "      <td>Sim</td>\n",
       "      <td>Aguardando Resposta</td>\n",
       "      <td>CÂMARA DOS DEPUTADOS\\n                  Deputa...</td>\n",
       "      <td>['camar', 'deputad', 'deputad', 'juli', 'lop',...</td>\n",
       "    </tr>\n",
       "  </tbody>\n",
       "</table>\n",
       "</div>"
      ],
      "text/plain": [
       "      code sig_tipo           name  \\\n",
       "0  2307087      INC  INC 1255/2021   \n",
       "1  2306960      PDL   PDL 990/2021   \n",
       "2  2306615      INC  INC 1234/2021   \n",
       "3  2306617      INC  INC 1236/2021   \n",
       "4  2306573      INC  INC 1230/2021   \n",
       "\n",
       "                                          txt_ementa em_tramitacao  \\\n",
       "0  Requer ao Poder Executivo federal o aumento do...           Sim   \n",
       "1  Susta os efeitos de dispositivo do Decreto nº ...           Sim   \n",
       "2  Sugere ao Ministério da Saúde a instalação de ...           Sim   \n",
       "3  Sugere ao Ministério da Saúde a instalação de ...           Sim   \n",
       "4  Sugere a aprovação de Convênio no Conselho Nac...           Sim   \n",
       "\n",
       "                                            situacao  \\\n",
       "0                      Aguardando Remessa ao Arquivo   \n",
       "1  Aguardando Despacho do Presidente da Câmara do...   \n",
       "2                                Aguardando Resposta   \n",
       "3                                Aguardando Resposta   \n",
       "4                                Aguardando Resposta   \n",
       "\n",
       "                                                text  \\\n",
       "0  INDICAÇÃO Nº      , DE 2021\\n(Do Sr. ZÉ SILVA)...   \n",
       "1  PROJETO DE DECRETO LEGISLATIVO Nº         , DE...   \n",
       "2  INDICAÇÃO No                , DE 2021 \\n(Da Se...   \n",
       "3  INDICAÇÃO No                , DE 2021 \\n(Da Se...   \n",
       "4  CÂMARA DOS DEPUTADOS\\n                  Deputa...   \n",
       "\n",
       "                                   text_preprocessed  \n",
       "0  ['indicaca', '2021', 'sr', 'ze', 'silv', 'requ...  \n",
       "1  ['projet', 'decret', 'legislativ', '2021', 'sr...  \n",
       "2  ['indicaca', '2021', 'senhor', 'perpetu', 'alm...  \n",
       "3  ['indicaca', '2021', 'senhor', 'perpetu', 'alm...  \n",
       "4  ['camar', 'deputad', 'deputad', 'juli', 'lop',...  "
      ]
     },
     "execution_count": 21,
     "metadata": {},
     "output_type": "execute_result"
    }
   ],
   "source": [
    "df_corpus.head()"
   ]
  },
  {
   "cell_type": "code",
   "execution_count": 22,
   "metadata": {},
   "outputs": [],
   "source": [
    "\n",
    "train_samples = []\n",
    "dev_samples = []\n",
    "test_samples = []\n",
    "for i in range(len(df)):\n",
    "    if not (df_corpus.loc[df_corpus[\"name\"] == df[\"name\"][i]].empty):\n",
    "        inp_example = InputExample(texts = [str(df[\"query\"][i]).strip() , str(df_corpus.loc[df_corpus[\"name\"] == df[\"name\"][i]][\"text\"]).strip()], label= float(df[\"class\"][i]))\n",
    "        if i % 3 == 0:\n",
    "            train_samples.append(inp_example)\n",
    "        if i % 2 == 0: \n",
    "            test_samples.append(inp_example)\n",
    "        if i % 7 == 0:\n",
    "            dev_samples.append(inp_example)"
   ]
  },
  {
   "cell_type": "code",
   "execution_count": 23,
   "metadata": {},
   "outputs": [],
   "source": [
    "train_dataloader = DataLoader(train_samples, shuffle=True, batch_size=train_batch_size)"
   ]
  },
  {
   "cell_type": "code",
   "execution_count": 24,
   "metadata": {},
   "outputs": [],
   "source": [
    "train_loss = losses.CosineSimilarityLoss(model)"
   ]
  },
  {
   "cell_type": "code",
   "execution_count": 25,
   "metadata": {},
   "outputs": [],
   "source": [
    "from sentence_transformers.evaluation import EmbeddingSimilarityEvaluator\n",
    "evaluator = EmbeddingSimilarityEvaluator.from_input_examples(dev_samples, name='sts-dev')"
   ]
  },
  {
   "cell_type": "code",
   "execution_count": 26,
   "metadata": {},
   "outputs": [],
   "source": [
    "import math\n",
    "warmup_steps = math.ceil(len(train_dataloader) * num_epochs * 0.1)"
   ]
  },
  {
   "cell_type": "code",
   "execution_count": 27,
   "metadata": {},
   "outputs": [
    {
     "name": "stderr",
     "output_type": "stream",
     "text": [
      "c:\\Users\\lucas\\AppData\\Local\\Programs\\Python\\Python310\\lib\\site-packages\\transformers\\optimization.py:306: FutureWarning: This implementation of AdamW is deprecated and will be removed in a future version. Use the PyTorch implementation torch.optim.AdamW instead, or set `no_deprecation_warning=True` to disable this warning\n",
      "  warnings.warn(\n"
     ]
    },
    {
     "data": {
      "application/vnd.jupyter.widget-view+json": {
       "model_id": "58d0a6deb2524689a81bae1558e34eac",
       "version_major": 2,
       "version_minor": 0
      },
      "text/plain": [
       "Epoch:   0%|          | 0/5 [00:00<?, ?it/s]"
      ]
     },
     "metadata": {},
     "output_type": "display_data"
    },
    {
     "data": {
      "application/vnd.jupyter.widget-view+json": {
       "model_id": "d505e89ca6964bda924c55411d3b3e1e",
       "version_major": 2,
       "version_minor": 0
      },
      "text/plain": [
       "Iteration:   0%|          | 0/141 [00:00<?, ?it/s]"
      ]
     },
     "metadata": {},
     "output_type": "display_data"
    },
    {
     "data": {
      "application/vnd.jupyter.widget-view+json": {
       "model_id": "c1023136edfd4423a3f1b53a9e54709d",
       "version_major": 2,
       "version_minor": 0
      },
      "text/plain": [
       "Iteration:   0%|          | 0/141 [00:00<?, ?it/s]"
      ]
     },
     "metadata": {},
     "output_type": "display_data"
    },
    {
     "data": {
      "application/vnd.jupyter.widget-view+json": {
       "model_id": "97a7020f1b5b4d10adeae16697e4b53c",
       "version_major": 2,
       "version_minor": 0
      },
      "text/plain": [
       "Iteration:   0%|          | 0/141 [00:00<?, ?it/s]"
      ]
     },
     "metadata": {},
     "output_type": "display_data"
    },
    {
     "data": {
      "application/vnd.jupyter.widget-view+json": {
       "model_id": "1e10c9eb49cb40bcbb476838db8f24d7",
       "version_major": 2,
       "version_minor": 0
      },
      "text/plain": [
       "Iteration:   0%|          | 0/141 [00:00<?, ?it/s]"
      ]
     },
     "metadata": {},
     "output_type": "display_data"
    },
    {
     "data": {
      "application/vnd.jupyter.widget-view+json": {
       "model_id": "cb06da0f3f2944f0922393d2a5b6c3c2",
       "version_major": 2,
       "version_minor": 0
      },
      "text/plain": [
       "Iteration:   0%|          | 0/141 [00:00<?, ?it/s]"
      ]
     },
     "metadata": {},
     "output_type": "display_data"
    }
   ],
   "source": [
    "model.fit(train_objectives=[(train_dataloader, train_loss)],\n",
    "          evaluator=evaluator,\n",
    "          epochs=num_epochs,\n",
    "          evaluation_steps=100,\n",
    "          warmup_steps=warmup_steps,\n",
    "          output_path=model_save_path)\n"
   ]
  },
  {
   "cell_type": "code",
   "execution_count": 28,
   "metadata": {},
   "outputs": [
    {
     "data": {
      "text/plain": [
       "0.49387786761978264"
      ]
     },
     "execution_count": 28,
     "metadata": {},
     "output_type": "execute_result"
    }
   ],
   "source": [
    "model = SentenceTransformer(model_save_path)\n",
    "test_evaluator = EmbeddingSimilarityEvaluator.from_input_examples(test_samples, name='sts-test')\n",
    "test_evaluator(model, output_path=model_save_path)"
   ]
  }
 ],
 "metadata": {
  "kernelspec": {
   "display_name": "Python 3.10.2 64-bit",
   "language": "python",
   "name": "python3"
  },
  "language_info": {
   "codemirror_mode": {
    "name": "ipython",
    "version": 3
   },
   "file_extension": ".py",
   "mimetype": "text/x-python",
   "name": "python",
   "nbconvert_exporter": "python",
   "pygments_lexer": "ipython3",
   "version": "3.10.2"
  },
  "orig_nbformat": 4,
  "vscode": {
   "interpreter": {
    "hash": "37083a178839ddb6837eca99e3841ef7be6dad5dc50c6d19829e2187d61ddd5d"
   }
  }
 },
 "nbformat": 4,
 "nbformat_minor": 2
}
